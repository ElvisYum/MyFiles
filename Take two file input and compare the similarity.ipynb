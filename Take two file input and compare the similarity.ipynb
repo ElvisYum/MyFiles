{
 "cells": [
  {
   "cell_type": "code",
   "execution_count": null,
   "id": "7abc10ff-62f0-4097-a652-2e0caa454b20",
   "metadata": {},
   "outputs": [],
   "source": []
  }
 ],
 "metadata": {
  "kernelspec": {
   "display_name": "",
   "name": ""
  },
  "language_info": {
   "name": ""
  }
 },
 "nbformat": 4,
 "nbformat_minor": 5
}
