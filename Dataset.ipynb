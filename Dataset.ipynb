{
 "cells": [
  {
   "cell_type": "markdown",
   "id": "1aa75f26-b0c3-4124-b3aa-3013a68c5ca0",
   "metadata": {},
   "source": [
    "# data set"
   ]
  },
  {
   "cell_type": "code",
   "execution_count": 6,
   "id": "8544ebc6-9206-4e8c-801b-4ec3bba18771",
   "metadata": {},
   "outputs": [
    {
     "name": "stdout",
     "output_type": "stream",
     "text": [
      "2.3.1\n",
      "      org  passing\n",
      "0  people        2\n",
      "1  monkey        3\n",
      "2    fish        4\n"
     ]
    }
   ],
   "source": [
    "import pandas as pd\n",
    "print(pd.__version__)\n",
    "mydataset={\n",
    "    'org':[\"people\",\"monkey\",\"fish\"],\n",
    "    'passing':[2,3,4]\n",
    "}\n",
    "myvar=pd.DataFrame(mydataset)\n",
    "print(myvar)"
   ]
  },
  {
   "cell_type": "markdown",
   "id": "6084e0d5-2542-463f-8006-067c8c460402",
   "metadata": {},
   "source": [
    "# pandas series from dic"
   ]
  },
  {
   "cell_type": "code",
   "execution_count": 7,
   "id": "ba91fbea-1818-45d6-a286-94c4e68e0e5e",
   "metadata": {},
   "outputs": [
    {
     "name": "stdout",
     "output_type": "stream",
     "text": [
      "d1    678\n",
      "d2    578\n",
      "d3    789\n",
      "dtype: int64\n"
     ]
    }
   ],
   "source": [
    "import pandas as pd\n",
    "calorie={\"d1\":678,\"d2\":578,\"d3\":789}\n",
    "myvar=pd.Series(calorie)\n",
    "print(myvar)"
   ]
  },
  {
   "cell_type": "code",
   "execution_count": 10,
   "id": "6171efcb-210d-4a9b-a9e6-8b39dc4aacb8",
   "metadata": {},
   "outputs": [
    {
     "name": "stdout",
     "output_type": "stream",
     "text": [
      "     sepal length  sepal width  petal length  petal width    species\n",
      "0             5.1          3.5           1.4          0.2     setosa\n",
      "1             4.9          3.0           1.4          0.2     setosa\n",
      "2             4.7          3.2           1.3          0.2     setosa\n",
      "3             4.6          3.1           1.5          0.2     setosa\n",
      "4             5.0          3.6           1.4          0.2     setosa\n",
      "..            ...          ...           ...          ...        ...\n",
      "145           6.7          3.0           5.2          2.3  virginica\n",
      "146           6.3          2.5           5.0          1.9  virginica\n",
      "147           6.5          3.0           5.2          2.0  virginica\n",
      "148           6.2          3.4           5.4          2.3  virginica\n",
      "149           5.9          3.0           5.1          1.8  virginica\n",
      "\n",
      "[150 rows x 5 columns]\n"
     ]
    }
   ],
   "source": [
    "import pandas as pd\n",
    "#url=\"https://raw.githubusercontent.com/cs109/2014_data/master/countries.csv\"\n",
    "url=\"https://raw.githubusercontent.com/vizydrop/data-samples/master/flowers.csv\"\n",
    "df=pd.read_csv(url)\n",
    "print(df)"
   ]
  },
  {
   "cell_type": "markdown",
   "id": "d5ed46d5-caf9-432f-87f5-fbcd52bbe037",
   "metadata": {},
   "source": [
    "# counting pattern"
   ]
  },
  {
   "cell_type": "code",
   "execution_count": 26,
   "id": "2b156bce-9885-4681-8bdb-bc1fa76aca2c",
   "metadata": {},
   "outputs": [
    {
     "name": "stdout",
     "output_type": "stream",
     "text": [
      "enter a line of text:\n"
     ]
    },
    {
     "name": "stdin",
     "output_type": "stream",
     "text": [
      " bfv 65 and somthing came up 234\n"
     ]
    },
    {
     "name": "stdout",
     "output_type": "stream",
     "text": [
      "words: ['bfv', '65', 'and', 'somthing', 'came', 'up', '234']\n",
      "counting...\n",
      "counts {'bfv': 1, '65': 1, 'and': 1, 'somthing': 1, 'came': 1, 'up': 1, '234': 1}\n"
     ]
    }
   ],
   "source": [
    "counts=dict()\n",
    "print('enter a line of text:')\n",
    "line=input('')\n",
    "words=line.split()\n",
    "print('words:',words)\n",
    "\n",
    "print('counting...')\n",
    "for word in words:\n",
    " counts[word]=counts.get(word,0)+1\n",
    "print('counts',counts)"
   ]
  },
  {
   "cell_type": "code",
   "execution_count": null,
   "id": "ea622c26-e961-43dd-b72c-870bae7ba7aa",
   "metadata": {},
   "outputs": [],
   "source": [
    "counts=dict()\n",
    "print('enter a line of text:')\n",
    "line=input('')\n",
    "words=line.split()\n",
    "print('words:',words)\n",
    "\n",
    "print('o line')\n",
    "for word in words:\n",
    " counts[word]=counts.get(word,0)+1\n",
    "print('counts',counts)\n",
    "\n",
    "concat_re=('')\n",
    "add = 0\n",
    "for word in words: \n",
    "    try: \n",
    "        re = int(word)\n",
    "        add = add + int(word)\n",
    "        concat_re+=word\n",
    "    except: \n",
    "        pass\n",
    "print('concatination: ',concat_re)\n",
    "print('additions:',add)\n",
    "\n",
    "special_chars = ['!', '@', '#', '$', '%', '^', '&']\n",
    "special_found = False\n",
    "\n",
    "for word in words:\n",
    "    if word in special_chars:\n",
    "        special_found = True\n",
    "        break\n",
    "\n",
    "if special_found:\n",
    "    print(\"special characters present.\")\n",
    "else:\n",
    "    print(\"Special characters not present.\")\n",
    "        "
   ]
  },
  {
   "cell_type": "code",
   "execution_count": 2,
   "id": "9858f4da-5040-44ce-8eff-04abb1691695",
   "metadata": {},
   "outputs": [
    {
     "name": "stdout",
     "output_type": "stream",
     "text": [
      "enter a line of text:\n"
     ]
    },
    {
     "name": "stdin",
     "output_type": "stream",
     "text": [
      "  yes i am going to school! and yes i am here! & yes i am 5 and he is 4\n"
     ]
    },
    {
     "name": "stdout",
     "output_type": "stream",
     "text": [
      "words: ['yes', 'i', 'am', 'going', 'to', 'school!', 'and', 'yes', 'i', 'am', 'here!', '&', 'yes', 'i', 'am', '5', 'and', 'he', 'is', '4']\n",
      "o line\n",
      "counts {'yes': 3, 'i': 3, 'am': 3, 'going': 1, 'to': 1, 'school!': 1, 'and': 2, 'here!': 1, '&': 1, '5': 1, 'he': 1, 'is': 1, '4': 1}\n",
      "Special characters not present.\n",
      "concatination:  54\n",
      "additions: 9\n"
     ]
    }
   ],
   "source": [
    "counts=dict()\n",
    "print('enter a line of text:')\n",
    "line=input('')\n",
    "words=line.split()\n",
    "print('words:',words)\n",
    "\n",
    "print('o line')\n",
    "for word in words:\n",
    " counts[word]=counts.get(word,0)+1\n",
    "print('counts',counts)\n",
    "special_chars = ['!', '@', '#', '$', '%', '^', '&']\n",
    "special_found = False\n",
    "\n",
    "if special_found:\n",
    "    print(\"special characters present.\")\n",
    "else:\n",
    "    print(\"Special characters not present.\")\n",
    "\n",
    "for word in words:\n",
    "    if word in special_chars:\n",
    "        special_found = True\n",
    "        break\n",
    "concat_re=('')\n",
    "add = 0\n",
    "for word in words: \n",
    "    try: \n",
    "        re = int(word)\n",
    "        add = add + int(word)\n",
    "        concat_re+=word\n",
    "    except: \n",
    "        pass\n",
    "print('concatination: ',concat_re)\n",
    "print('additions:',add)"
   ]
  },
  {
   "cell_type": "code",
   "execution_count": null,
   "id": "92f09cde-cc95-470d-adc8-42f39c1c2479",
   "metadata": {},
   "outputs": [],
   "source": []
  }
 ],
 "metadata": {
  "kernelspec": {
   "display_name": "Python 3 (ipykernel)",
   "language": "python",
   "name": "python3"
  },
  "language_info": {
   "codemirror_mode": {
    "name": "ipython",
    "version": 3
   },
   "file_extension": ".py",
   "mimetype": "text/x-python",
   "name": "python",
   "nbconvert_exporter": "python",
   "pygments_lexer": "ipython3",
   "version": "3.13.5"
  }
 },
 "nbformat": 4,
 "nbformat_minor": 5
}
