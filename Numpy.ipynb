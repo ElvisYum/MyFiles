{
 "cells": [
  {
   "cell_type": "markdown",
   "id": "59ad3510-1a4a-4e0d-b707-5d2999ecd471",
   "metadata": {},
   "source": [
    "### Array in Numpy"
   ]
  },
  {
   "cell_type": "code",
   "execution_count": 5,
   "id": "33ebd07f-b7ee-4bdb-83d1-e9dbf40625cd",
   "metadata": {},
   "outputs": [
    {
     "name": "stdout",
     "output_type": "stream",
     "text": [
      "[1 2 3 4 5]\n",
      "2.3.2\n"
     ]
    }
   ],
   "source": [
    "import numpy as np\n",
    "arr = np.array([1,2,3,4,5])\n",
    "print(arr)\n",
    "print(np.__version__)"
   ]
  },
  {
   "cell_type": "markdown",
   "id": "1cef2cfc-5cea-4269-adc3-ba6b59867a25",
   "metadata": {},
   "source": [
    "### 2D array in numpy"
   ]
  },
  {
   "cell_type": "code",
   "execution_count": 12,
   "id": "522f05dc-c907-4363-9ba5-4840ac2bb729",
   "metadata": {},
   "outputs": [
    {
     "name": "stdout",
     "output_type": "stream",
     "text": [
      "[[1 2 3]\n",
      " [4 5 6]]\n"
     ]
    }
   ],
   "source": [
    "import numpy as np\n",
    "arr = np.array([[1,2,3],[4,5,6]])\n",
    "print(arr)"
   ]
  },
  {
   "cell_type": "markdown",
   "id": "783849eb-e161-4d6e-9c28-8c2b060f3f2c",
   "metadata": {},
   "source": [
    "### 3D array"
   ]
  },
  {
   "cell_type": "code",
   "execution_count": 23,
   "id": "ee5ef312-3982-4546-bfbb-985037b96aa6",
   "metadata": {},
   "outputs": [
    {
     "name": "stdout",
     "output_type": "stream",
     "text": [
      "[[[ 1  2  3  4  5]\n",
      "  [ 6  7  8  9 10]]\n",
      "\n",
      " [[11 12 13 14 15]\n",
      "  [16 17 18 19 20]]]\n"
     ]
    }
   ],
   "source": [
    "import numpy as np\n",
    "arr = np.array([[[1,2,3,4,5],[6,7,8,9,10]],[[11,12,13,14,15],[16,17,18,19,20]]])\n",
    "print(arr)"
   ]
  },
  {
   "cell_type": "code",
   "execution_count": 28,
   "id": "6044bfdd-8a36-46a0-849e-7f88fb27917e",
   "metadata": {},
   "outputs": [
    {
     "name": "stdout",
     "output_type": "stream",
     "text": [
      "1\n",
      "2\n",
      "3\n"
     ]
    }
   ],
   "source": [
    "import numpy as np\n",
    "a = np.array([1,2,3,4,5])\n",
    "b = np.array([[1,2,3],[4,5,6]])\n",
    "c = np.array([[[1,2,3,4,5],[6,7,8,9,10]],[[11,12,13,14,15],[16,17,18,19,20]]])\n",
    "print(a.ndim)\n",
    "print(b.ndim)\n",
    "print(c.ndim)"
   ]
  },
  {
   "cell_type": "markdown",
   "id": "485f3814-afdf-451f-a9d5-4fbe4df543a2",
   "metadata": {},
   "source": [
    "### Create an array with 5 dims"
   ]
  },
  {
   "cell_type": "code",
   "execution_count": 34,
   "id": "773f3ab1-12e2-45e0-a04b-a02287f34154",
   "metadata": {},
   "outputs": [
    {
     "name": "stdout",
     "output_type": "stream",
     "text": [
      "[[[[[1 2 3 4]]]]]\n",
      "Number of dimensions: 5\n"
     ]
    }
   ],
   "source": [
    "import numpy as np\n",
    "arr = np.array([1,2,3,4], ndmin = 5)\n",
    "print(arr)\n",
    "print('Number of dimensions:', arr.ndim)"
   ]
  },
  {
   "cell_type": "markdown",
   "id": "80ac3b22-b55e-474b-9532-62af3369a7d8",
   "metadata": {},
   "source": [
    "### Access the element on the first row and second column"
   ]
  },
  {
   "cell_type": "code",
   "execution_count": 37,
   "id": "a6b2f872-8638-40b9-a065-2b590df96923",
   "metadata": {},
   "outputs": [
    {
     "name": "stdout",
     "output_type": "stream",
     "text": [
      "[[ 1  2  3  4  5]\n",
      " [ 6  7  8  9 10]]\n",
      "2nd element on 1st row: 2\n"
     ]
    }
   ],
   "source": [
    "import numpy as np\n",
    "arr = np.array([[1,2,3,4,5],[6,7,8,9,10]])\n",
    "print(arr)\n",
    "print('2nd element on 1st row:', arr[0,1])"
   ]
  },
  {
   "cell_type": "markdown",
   "id": "52eb3ea7-296a-41cb-9b10-06b7534db5c5",
   "metadata": {},
   "source": [
    "### Iterate through 3D array"
   ]
  },
  {
   "cell_type": "code",
   "execution_count": 39,
   "id": "5e419d54-5848-44c5-a543-5395a144bd0b",
   "metadata": {},
   "outputs": [
    {
     "name": "stdout",
     "output_type": "stream",
     "text": [
      "[[[1 2]\n",
      "  [3 4]]\n",
      "\n",
      " [[5 6]\n",
      "  [7 8]]]\n",
      "1\n",
      "2\n",
      "3\n",
      "4\n",
      "5\n",
      "6\n",
      "7\n",
      "8\n"
     ]
    }
   ],
   "source": [
    "import numpy as np\n",
    "arr = np.array([[[1,2],[3,4]],[[5,6],[7,8]]])\n",
    "print(arr)\n",
    "for i in np.nditer(arr):\n",
    "    print(i)"
   ]
  },
  {
   "cell_type": "markdown",
   "id": "bab3042b-6b12-4512-90fe-7bfe32482e98",
   "metadata": {},
   "source": [
    "### Join two numpy arrays"
   ]
  },
  {
   "cell_type": "code",
   "execution_count": 42,
   "id": "2f64c150-3c9a-47fc-9f31-39d45943a09c",
   "metadata": {},
   "outputs": [
    {
     "name": "stdout",
     "output_type": "stream",
     "text": [
      "[1 2 3 4 5 6]\n"
     ]
    }
   ],
   "source": [
    "import numpy as np\n",
    "arr1 = np.array([1,2,3])\n",
    "arr2 = np.array([4,5,6])\n",
    "arr = np.concatenate((arr1,arr2))\n",
    "print(arr)"
   ]
  },
  {
   "cell_type": "markdown",
   "id": "38dabaf1-94b1-42f9-9851-7d9dab9724ed",
   "metadata": {},
   "source": [
    "### Searching a numpy array"
   ]
  },
  {
   "cell_type": "code",
   "execution_count": 52,
   "id": "ac356270-55a1-4f76-962d-e6fb51a6224e",
   "metadata": {},
   "outputs": [
    {
     "name": "stdout",
     "output_type": "stream",
     "text": [
      "(array([ 0,  4,  6,  7, 13]),)\n"
     ]
    }
   ],
   "source": [
    "import numpy as np\n",
    "arr = np.array([4,1,2,3,4,5,4,4,6,7,8,9,10,4])\n",
    "x = np.where(arr==4)\n",
    "print(x)"
   ]
  },
  {
   "cell_type": "markdown",
   "id": "9cdb597c-8401-4d23-ab5e-cf7e4b791df6",
   "metadata": {},
   "source": [
    "### Sorting numpy arrays"
   ]
  },
  {
   "cell_type": "code",
   "execution_count": 53,
   "id": "62120448-878c-4c37-9bdf-e0241ff266c7",
   "metadata": {},
   "outputs": [
    {
     "name": "stdout",
     "output_type": "stream",
     "text": [
      "[ 12  23  56 122 768]\n"
     ]
    }
   ],
   "source": [
    "import numpy as np\n",
    "arr = np.array([23,12,56,122,768])\n",
    "print(np.sort(arr))"
   ]
  },
  {
   "cell_type": "code",
   "execution_count": null,
   "id": "72011554-1e29-43b5-969b-03c21c9c7fdc",
   "metadata": {},
   "outputs": [],
   "source": []
  },
  {
   "cell_type": "code",
   "execution_count": 55,
   "id": "5040c000-328f-4ab0-a297-5d99776dbb0a",
   "metadata": {},
   "outputs": [
    {
     "name": "stdout",
     "output_type": "stream",
     "text": [
      "[  12  187   76 1676]\n"
     ]
    }
   ],
   "source": [
    "import numpy as np\n",
    "arr = np.array([12,67,187,126,76,1676])\n",
    "x = [True,False,True,False,True,True]\n",
    "newarr = arr[x]\n",
    "print(newarr)"
   ]
  },
  {
   "cell_type": "markdown",
   "id": "3204562c-1518-47c7-99aa-ab350b79f03e",
   "metadata": {},
   "source": [
    "### Finding Mean"
   ]
  },
  {
   "cell_type": "code",
   "execution_count": null,
   "id": "a39da9a0-e4f4-474e-ae67-5b59d5db2b75",
   "metadata": {},
   "outputs": [],
   "source": [
    "import numpy as np\n",
    "speed = np.array"
   ]
  }
 ],
 "metadata": {
  "kernelspec": {
   "display_name": "Python 3 (ipykernel)",
   "language": "python",
   "name": "python3"
  },
  "language_info": {
   "codemirror_mode": {
    "name": "ipython",
    "version": 3
   },
   "file_extension": ".py",
   "mimetype": "text/x-python",
   "name": "python",
   "nbconvert_exporter": "python",
   "pygments_lexer": "ipython3",
   "version": "3.13.5"
  }
 },
 "nbformat": 4,
 "nbformat_minor": 5
}
