{
 "cells": [
  {
   "cell_type": "markdown",
   "id": "67c1040e-1de8-4688-835a-8bf67861a88c",
   "metadata": {},
   "source": [
    "### Reading and Connverting"
   ]
  },
  {
   "cell_type": "code",
   "execution_count": 3,
   "id": "b83f3721-a15e-4a36-ab22-9c913fa2e695",
   "metadata": {},
   "outputs": [
    {
     "name": "stdin",
     "output_type": "stream",
     "text": [
      "Enter: np'\n"
     ]
    },
    {
     "name": "stdout",
     "output_type": "stream",
     "text": [
      "np'\n"
     ]
    },
    {
     "name": "stdin",
     "output_type": "stream",
     "text": [
      "Enter amount: 20\n"
     ]
    },
    {
     "name": "stdout",
     "output_type": "stream",
     "text": [
      "0\n"
     ]
    }
   ],
   "source": [
    "name = input(\"Enter:\")\n",
    "print(name)\n",
    "apple = int(input(\"Enter amount:\"))\n",
    "yes = apple - 20\n",
    "print(yes)"
   ]
  },
  {
   "cell_type": "markdown",
   "id": "dae2a147-9cba-4b22-810f-9a6ef90fe259",
   "metadata": {},
   "source": [
    "### Looking inside Strings"
   ]
  },
  {
   "cell_type": "code",
   "execution_count": 15,
   "id": "f7ae4ff9-9589-4399-8088-1dbf7519c371",
   "metadata": {},
   "outputs": [
    {
     "name": "stdout",
     "output_type": "stream",
     "text": [
      "s\n"
     ]
    }
   ],
   "source": [
    "fruit = \"ananas\"\n",
    "letter = fruit[5]\n",
    "print(letter)"
   ]
  },
  {
   "cell_type": "markdown",
   "id": "cf258d8e-c506-4e71-8fea-34abb01d3880",
   "metadata": {},
   "source": [
    "### String Length"
   ]
  },
  {
   "cell_type": "code",
   "execution_count": 16,
   "id": "34f87617-1877-48d7-b102-59b3afe20cc9",
   "metadata": {},
   "outputs": [
    {
     "name": "stdout",
     "output_type": "stream",
     "text": [
      "6\n"
     ]
    }
   ],
   "source": [
    "fruit = 'ananas'\n",
    "print(len(fruit))"
   ]
  },
  {
   "cell_type": "markdown",
   "id": "7ebe2c80-4feb-437f-b51c-1b93b988c581",
   "metadata": {},
   "source": [
    "### Looping through strings"
   ]
  },
  {
   "cell_type": "code",
   "execution_count": 17,
   "id": "52229161-9f24-4247-900a-7348db6ac45b",
   "metadata": {},
   "outputs": [
    {
     "name": "stdout",
     "output_type": "stream",
     "text": [
      "0 a\n",
      "1 n\n",
      "2 a\n",
      "3 n\n",
      "4 a\n",
      "5 s\n"
     ]
    }
   ],
   "source": [
    "fruit = 'ananas'\n",
    "i = 0\n",
    "while i < len(fruit):\n",
    "    letter = fruit[i]\n",
    "    print(i, letter)\n",
    "    i = i + 1"
   ]
  },
  {
   "cell_type": "code",
   "execution_count": 32,
   "id": "1c4df860-d6f8-455f-b599-499353477e00",
   "metadata": {},
   "outputs": [
    {
     "name": "stdout",
     "output_type": "stream",
     "text": [
      "a\n",
      "n\n",
      "a\n",
      "n\n",
      "a\n",
      "s\n"
     ]
    }
   ],
   "source": [
    "fruit = 'ananas'\n",
    "for i in fruit:\n",
    "    print(i)"
   ]
  },
  {
   "cell_type": "code",
   "execution_count": null,
   "id": "ebac9bed-c3ac-4b91-bb87-096beba20fc0",
   "metadata": {},
   "outputs": [],
   "source": [
    "fruit = 'ananas'\n",
    "count = 0\n",
    "for i in fruit:\n",
    "    if i == 'a':\n",
    "        count = count + 1\n",
    "print(count)"
   ]
  },
  {
   "cell_type": "markdown",
   "id": "dde5da7a-8522-470a-869b-72426d3a1aff",
   "metadata": {},
   "source": [
    "### Slicing Strings"
   ]
  },
  {
   "cell_type": "code",
   "execution_count": 52,
   "id": "3ea7dad9-b510-435f-a6a3-77d8a569577d",
   "metadata": {},
   "outputs": [
    {
     "name": "stdout",
     "output_type": "stream",
     "text": [
      " Watch my Fa\n",
      "I Love to Watch my Fa\n",
      " Watch my Favorite Movies!\n",
      "I Love to Watch my Favorite Movies!\n"
     ]
    }
   ],
   "source": [
    "string = \"I Love to Watch my Favorite Movies!\"\n",
    "print(string[9:21])\n",
    "print(string[:21])\n",
    "print(string[9:])\n",
    "print(string[:])"
   ]
  },
  {
   "cell_type": "markdown",
   "id": "268ffc29-db63-4781-ba9a-85256be55758",
   "metadata": {},
   "source": [
    "### Using In as a Logical Op"
   ]
  },
  {
   "cell_type": "code",
   "execution_count": 60,
   "id": "3de6dd06-399b-462a-a4cc-c0803d8e743a",
   "metadata": {},
   "outputs": [
    {
     "name": "stdout",
     "output_type": "stream",
     "text": [
      "why\n"
     ]
    }
   ],
   "source": [
    "fruit = 'ananas'\n",
    "'ok' in fruit\n",
    "if True:  \n",
    "    print('why')\n",
    "else:\n",
    "    print('ok')"
   ]
  },
  {
   "cell_type": "markdown",
   "id": "eadeecaa-dda5-4bd7-9b81-c6e008f77547",
   "metadata": {},
   "source": [
    "### X------------------------------X-----------------------------X"
   ]
  },
  {
   "cell_type": "code",
   "execution_count": 65,
   "id": "679d8533-0064-47f0-8335-cb804b4584aa",
   "metadata": {},
   "outputs": [
    {
     "data": {
      "text/plain": [
       "['__add__',\n",
       " '__class__',\n",
       " '__contains__',\n",
       " '__delattr__',\n",
       " '__dir__',\n",
       " '__doc__',\n",
       " '__eq__',\n",
       " '__format__',\n",
       " '__ge__',\n",
       " '__getattribute__',\n",
       " '__getitem__',\n",
       " '__getnewargs__',\n",
       " '__getstate__',\n",
       " '__gt__',\n",
       " '__hash__',\n",
       " '__init__',\n",
       " '__init_subclass__',\n",
       " '__iter__',\n",
       " '__le__',\n",
       " '__len__',\n",
       " '__lt__',\n",
       " '__mod__',\n",
       " '__mul__',\n",
       " '__ne__',\n",
       " '__new__',\n",
       " '__reduce__',\n",
       " '__reduce_ex__',\n",
       " '__repr__',\n",
       " '__rmod__',\n",
       " '__rmul__',\n",
       " '__setattr__',\n",
       " '__sizeof__',\n",
       " '__str__',\n",
       " '__subclasshook__',\n",
       " 'capitalize',\n",
       " 'casefold',\n",
       " 'center',\n",
       " 'count',\n",
       " 'encode',\n",
       " 'endswith',\n",
       " 'expandtabs',\n",
       " 'find',\n",
       " 'format',\n",
       " 'format_map',\n",
       " 'index',\n",
       " 'isalnum',\n",
       " 'isalpha',\n",
       " 'isascii',\n",
       " 'isdecimal',\n",
       " 'isdigit',\n",
       " 'isidentifier',\n",
       " 'islower',\n",
       " 'isnumeric',\n",
       " 'isprintable',\n",
       " 'isspace',\n",
       " 'istitle',\n",
       " 'isupper',\n",
       " 'join',\n",
       " 'ljust',\n",
       " 'lower',\n",
       " 'lstrip',\n",
       " 'maketrans',\n",
       " 'partition',\n",
       " 'removeprefix',\n",
       " 'removesuffix',\n",
       " 'replace',\n",
       " 'rfind',\n",
       " 'rindex',\n",
       " 'rjust',\n",
       " 'rpartition',\n",
       " 'rsplit',\n",
       " 'rstrip',\n",
       " 'split',\n",
       " 'splitlines',\n",
       " 'startswith',\n",
       " 'strip',\n",
       " 'swapcase',\n",
       " 'title',\n",
       " 'translate',\n",
       " 'upper',\n",
       " 'zfill']"
      ]
     },
     "execution_count": 65,
     "metadata": {},
     "output_type": "execute_result"
    }
   ],
   "source": [
    "stuff = \"Hello, World!\"\n",
    "type(stuff)\n",
    "dir(stuff)"
   ]
  },
  {
   "cell_type": "code",
   "execution_count": null,
   "id": "46ebad65-3324-43d4-8a65-57cb653c999d",
   "metadata": {},
   "outputs": [],
   "source": []
  }
 ],
 "metadata": {
  "kernelspec": {
   "display_name": "Python 3 (ipykernel)",
   "language": "python",
   "name": "python3"
  },
  "language_info": {
   "codemirror_mode": {
    "name": "ipython",
    "version": 3
   },
   "file_extension": ".py",
   "mimetype": "text/x-python",
   "name": "python",
   "nbconvert_exporter": "python",
   "pygments_lexer": "ipython3",
   "version": "3.13.5"
  }
 },
 "nbformat": 4,
 "nbformat_minor": 5
}
