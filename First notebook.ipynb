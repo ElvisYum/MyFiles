{
 "cells": [
  {
   "cell_type": "markdown",
   "id": "f736b677-0011-4cd6-8cd3-2aed994b4929",
   "metadata": {},
   "source": [
    "# My first python program\n",
    "### My first python program"
   ]
  },
  {
   "cell_type": "code",
   "execution_count": 4,
   "id": "1c8f9b97-9d79-4500-877a-c15176d80f1a",
   "metadata": {},
   "outputs": [],
   "source": [
    "# this is a first comment"
   ]
  },
  {
   "cell_type": "markdown",
   "id": "3618c067-b1a1-4bee-97c6-6bf7497df639",
   "metadata": {},
   "source": [
    "## Basic Maths in py"
   ]
  },
  {
   "cell_type": "code",
   "execution_count": 5,
   "id": "bf51f882-c4b4-4188-8f04-019108e1d550",
   "metadata": {},
   "outputs": [
    {
     "name": "stdout",
     "output_type": "stream",
     "text": [
      "30\n"
     ]
    }
   ],
   "source": [
    "a=20\n",
    "b=10\n",
    "c=a+b\n",
    "print(c)"
   ]
  },
  {
   "cell_type": "code",
   "execution_count": 12,
   "id": "7a1f32f4-44aa-4576-8e23-ebbb9c067d4e",
   "metadata": {},
   "outputs": [
    {
     "name": "stdout",
     "output_type": "stream",
     "text": [
      "is this real\n"
     ]
    },
    {
     "data": {
      "text/plain": [
       "str"
      ]
     },
     "execution_count": 12,
     "metadata": {},
     "output_type": "execute_result"
    }
   ],
   "source": [
    "chat = 'is this' + ' real'\n",
    "chat = chat\n",
    "print(chat)\n",
    "type (chat)"
   ]
  },
  {
   "cell_type": "code",
   "execution_count": 16,
   "id": "533cb05c-6e3c-4467-90df-c2b8f9e8ea25",
   "metadata": {},
   "outputs": [
    {
     "name": "stdout",
     "output_type": "stream",
     "text": [
      "4.0\n"
     ]
    },
    {
     "data": {
      "text/plain": [
       "float"
      ]
     },
     "execution_count": 16,
     "metadata": {},
     "output_type": "execute_result"
    }
   ],
   "source": [
    "a = 1\n",
    "b = 3\n",
    "c = b + float(a)\n",
    "print(c)\n",
    "type (c)"
   ]
  },
  {
   "cell_type": "code",
   "execution_count": 17,
   "id": "b1c3226c-dcb4-4fe3-8f48-1d388a6b501a",
   "metadata": {},
   "outputs": [
    {
     "name": "stdin",
     "output_type": "stream",
     "text": [
      "who are you? yes\n"
     ]
    },
    {
     "name": "stdout",
     "output_type": "stream",
     "text": [
      "no yes\n"
     ]
    }
   ],
   "source": [
    "name = input('who are you?')\n",
    "print('no', name)"
   ]
  },
  {
   "cell_type": "code",
   "execution_count": null,
   "id": "318e8764-ee37-4e21-a5f0-70a35dde8538",
   "metadata": {},
   "outputs": [],
   "source": []
  }
 ],
 "metadata": {
  "kernelspec": {
   "display_name": "Python 3 (ipykernel)",
   "language": "python",
   "name": "python3"
  },
  "language_info": {
   "codemirror_mode": {
    "name": "ipython",
    "version": 3
   },
   "file_extension": ".py",
   "mimetype": "text/x-python",
   "name": "python",
   "nbconvert_exporter": "python",
   "pygments_lexer": "ipython3",
   "version": "3.13.5"
  }
 },
 "nbformat": 4,
 "nbformat_minor": 5
}
