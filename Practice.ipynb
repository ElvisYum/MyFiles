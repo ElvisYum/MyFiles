{
 "cells": [
  {
   "cell_type": "code",
   "execution_count": 7,
   "id": "ab902396-ba07-40fb-8cea-f9095929c98b",
   "metadata": {},
   "outputs": [
    {
     "name": "stdout",
     "output_type": "stream",
     "text": [
      "         jobs  seat availability\n",
      "0   carpenter                  4\n",
      "1       clerk                  1\n",
      "2  technician                  2\n",
      "3      police                  3\n"
     ]
    }
   ],
   "source": [
    "import pandas as pd\n",
    "newdataset = {\n",
    "    'jobs' : ['carpenter', 'clerk', 'technician', 'police'],\n",
    "    'seat availability' : [4,1,2,3],\n",
    "#    'people wanted' : [32,12,567,12,90]\n",
    "}\n",
    "mydata = pd.DataFrame(newdataset)\n",
    "print(mydata)"
   ]
  },
  {
   "cell_type": "code",
   "execution_count": 8,
   "id": "c5ce9819-3894-4d90-a01c-11023c27ccfd",
   "metadata": {},
   "outputs": [
    {
     "name": "stdout",
     "output_type": "stream",
     "text": [
      "p1    123\n",
      "p2    253\n",
      "p3    346\n",
      "dtype: int64\n"
     ]
    }
   ],
   "source": [
    "import pandas as pd\n",
    "money = {'p1': 123, 'p2':253, 'p3':346}\n",
    "yes = pd.Series(money)\n",
    "print(yes)"
   ]
  },
  {
   "cell_type": "code",
   "execution_count": 9,
   "id": "27bec5ff-8cbd-4e81-8cf6-92325a9d533c",
   "metadata": {},
   "outputs": [
    {
     "name": "stdout",
     "output_type": "stream",
     "text": [
      "       Country         Region\n",
      "0      Algeria         AFRICA\n",
      "1       Angola         AFRICA\n",
      "2        Benin         AFRICA\n",
      "3     Botswana         AFRICA\n",
      "4      Burkina         AFRICA\n",
      "..         ...            ...\n",
      "189   Paraguay  SOUTH AMERICA\n",
      "190       Peru  SOUTH AMERICA\n",
      "191   Suriname  SOUTH AMERICA\n",
      "192    Uruguay  SOUTH AMERICA\n",
      "193  Venezuela  SOUTH AMERICA\n",
      "\n",
      "[194 rows x 2 columns]\n"
     ]
    }
   ],
   "source": [
    "import pandas as pd\n",
    "url = 'https://raw.githubusercontent.com/cs109/2014_data/master/countries.csv'\n",
    "df = pd.read_csv(url)\n",
    "print(df)"
   ]
  },
  {
   "cell_type": "code",
   "execution_count": 22,
   "id": "cf49af4f-24f1-41c4-807b-a463a7ec2395",
   "metadata": {},
   "outputs": [
    {
     "name": "stdout",
     "output_type": "stream",
     "text": [
      "enter a line of text:\n"
     ]
    },
    {
     "name": "stdin",
     "output_type": "stream",
     "text": [
      " yes i am going to school and yes i am here\n"
     ]
    },
    {
     "name": "stdout",
     "output_type": "stream",
     "text": [
      "Words are: ['yes', 'i', 'am', 'going', 'to', 'school', 'and', 'yes', 'i', 'am', 'here']\n",
      "counting....\n",
      "No of words: {'yes': 2, 'i': 2, 'am': 2, 'going': 1, 'to': 1, 'school': 1, 'and': 1, 'here': 1}\n"
     ]
    }
   ],
   "source": [
    "#spliting the words\n",
    "count = dict()\n",
    "print(\"enter a line of text:\")\n",
    "line = input('')\n",
    "words = line.split()\n",
    "print('Words are:', words)\n",
    "\n",
    "#counting the words\n",
    "print('counting....')\n",
    "for i in words:\n",
    "    count[i] = count.get(i, 0) + 1\n",
    "print('No of words:', count) "
   ]
  },
  {
   "cell_type": "code",
   "execution_count": 29,
   "id": "aa9aa8cb-6bd1-4f75-8c75-b6b7e211955c",
   "metadata": {},
   "outputs": [
    {
     "name": "stdout",
     "output_type": "stream",
     "text": [
      "Enter a line of text:\n"
     ]
    },
    {
     "name": "stdin",
     "output_type": "stream",
     "text": [
      " yes i am going to school! and yes i am here! & yes i am 5 and he is 4\n"
     ]
    },
    {
     "name": "stdout",
     "output_type": "stream",
     "text": [
      "The words are: ['yes', 'i', 'am', 'going', 'to', 'school!', 'and', 'yes', 'i', 'am', 'here!', '&', 'yes', 'i', 'am', '5', 'and', 'he', 'is', '4']\n",
      "We are now counting.....\n",
      "Checking for each words: {'yes': 3, 'i': 3, 'am': 3, 'going': 1, 'to': 1, 'school!': 1, 'and': 2, 'here!': 1, '&': 1, '5': 1, 'he': 1, 'is': 1, '4': 1}\n",
      "The concatenated nos: 54\n",
      "The added nos: 9\n",
      "Special characters present\n"
     ]
    }
   ],
   "source": [
    "#splitting the words\n",
    "count = dict()\n",
    "print('Enter a line of text:')\n",
    "line = input('')\n",
    "words = line.split()\n",
    "print(\"The words are:\", words)\n",
    "\n",
    "#counting the words\n",
    "print('We are now counting.....')\n",
    "for i in words:\n",
    "    count[i] = count.get(i, 0) + 1\n",
    "print('Checking for each words:', count)\n",
    "\n",
    "#concatenate the numbers in the line of text and put it in a container; add them and do the same\n",
    "concat_the_nos = ('')\n",
    "add_the_nos = 0\n",
    "for i in words:\n",
    "    try:\n",
    "        toint = int(i)           #converts the current word to int\n",
    "        add_the_nos += int(i)    #adds the current converted words\n",
    "        concat_the_nos += i      #concat the words(nos)\n",
    "    except:\n",
    "        pass\n",
    "print(\"The concatenated nos:\", concat_the_nos)\n",
    "print(\"The added nos:\", add_the_nos)\n",
    "\n",
    "#checking for special characters\n",
    "sp_char = [\"!\",\"@\",\"#\",\"$\",\"%\",\"^\",\"&\",\"*\"]\n",
    "sp_found = False\n",
    "for i in words:\n",
    "    if i in sp_char:\n",
    "        sp_found = True\n",
    "        break\n",
    "if sp_found:\n",
    "    print(\"Special characters present\")\n",
    "else:\n",
    "    print(\"Special characters not present\")"
   ]
  },
  {
   "cell_type": "code",
   "execution_count": null,
   "id": "6fae09ce-8b1e-4919-a44b-4f3f1e3161be",
   "metadata": {},
   "outputs": [],
   "source": []
  }
 ],
 "metadata": {
  "kernelspec": {
   "display_name": "Python 3 (ipykernel)",
   "language": "python",
   "name": "python3"
  },
  "language_info": {
   "codemirror_mode": {
    "name": "ipython",
    "version": 3
   },
   "file_extension": ".py",
   "mimetype": "text/x-python",
   "name": "python",
   "nbconvert_exporter": "python",
   "pygments_lexer": "ipython3",
   "version": "3.13.5"
  }
 },
 "nbformat": 4,
 "nbformat_minor": 5
}
