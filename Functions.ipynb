{
 "cells": [
  {
   "cell_type": "markdown",
   "id": "c172fdfd-7801-4742-8e5e-f89040b673f4",
   "metadata": {},
   "source": [
    "### Function with no parameter"
   ]
  },
  {
   "cell_type": "code",
   "execution_count": 5,
   "id": "0cf38bb8-955e-4736-8f41-1771db38c4e3",
   "metadata": {},
   "outputs": [
    {
     "name": "stdout",
     "output_type": "stream",
     "text": [
      "Hello World!\n"
     ]
    }
   ],
   "source": [
    "def say_hello():\n",
    "    print(\"Hello World!\")\n",
    "say_hello()"
   ]
  },
  {
   "cell_type": "markdown",
   "id": "0523e030-0341-4073-a081-2e9d25f1c3b9",
   "metadata": {},
   "source": [
    "### Function with parameter"
   ]
  },
  {
   "cell_type": "code",
   "execution_count": 9,
   "id": "41b3b67a-9a36-4f14-9ecc-2ab69a0f89f6",
   "metadata": {},
   "outputs": [
    {
     "name": "stdout",
     "output_type": "stream",
     "text": [
      "Sum is : 15\n"
     ]
    }
   ],
   "source": [
    "def add(a,b):\n",
    "    return a + b\n",
    "result = add(6 , 9)\n",
    "print(\"Sum is :\",result)"
   ]
  },
  {
   "cell_type": "markdown",
   "id": "0737fc1b-e28e-4bb6-aaba-0f054a423e87",
   "metadata": {},
   "source": [
    "### Function with default parameter"
   ]
  },
  {
   "cell_type": "code",
   "execution_count": 7,
   "id": "8853010a-799c-4dd6-85d0-5d4c5c3d33bb",
   "metadata": {},
   "outputs": [
    {
     "name": "stdout",
     "output_type": "stream",
     "text": [
      "Hello Elvish!\n",
      "Hello Doe!\n"
     ]
    }
   ],
   "source": [
    "def greet(name = \"Elvish\"):\n",
    "    print(\"Hello \"+ name +\"!\")\n",
    "greet()\n",
    "greet(\"Doe\")"
   ]
  },
  {
   "cell_type": "code",
   "execution_count": 17,
   "id": "adfee416-7c55-4bef-b894-886e387429fe",
   "metadata": {},
   "outputs": [
    {
     "name": "stdout",
     "output_type": "stream",
     "text": [
      "Hello John Doe!\n"
     ]
    }
   ],
   "source": [
    "def greet(name):\n",
    "    print(\"Hello \" + name + \"!\")\n",
    "greet(\"John Doe\")"
   ]
  },
  {
   "cell_type": "markdown",
   "id": "7c896059-d3a9-4fbe-b743-31e50b0e3a67",
   "metadata": {},
   "source": [
    "### Function to check even or odd"
   ]
  },
  {
   "cell_type": "code",
   "execution_count": null,
   "id": "b6d16139-d1f1-47ea-a323-cae65b94686d",
   "metadata": {},
   "outputs": [],
   "source": [
    "def is_even(num):\n",
    "    if num % 2 == 0:\n",
    "        return True\n",
    "    else:\n",
    "        return False\n",
    "\n",
    "#print(is_even(3))\n",
    "#print(is_even(4))\n",
    "\n",
    "print(\"Enter a number:\")\n",
    "x = int(input())\n",
    "if (is_even(x)):\n",
    "    print(\"Even Number!\")\n",
    "else:\n",
    "    print(\"Odd Number!\")\n"
   ]
  },
  {
   "cell_type": "markdown",
   "id": "82d82d4c-0ae3-4dcd-8f3e-0549cf828d50",
   "metadata": {},
   "source": [
    "### Function that returns maximum"
   ]
  },
  {
   "cell_type": "code",
   "execution_count": 35,
   "id": "e4233c6f-88d0-4fab-9314-e289229cc471",
   "metadata": {},
   "outputs": [
    {
     "name": "stdout",
     "output_type": "stream",
     "text": [
      "20\n"
     ]
    }
   ],
   "source": [
    "def maxm(a,b,c):\n",
    "    return max(a,b,c)     #max is predefined\n",
    "print(maxm(10,12,20))"
   ]
  },
  {
   "cell_type": "markdown",
   "id": "279ed59b-8818-4789-aa52-7fb8f5c5e7dc",
   "metadata": {},
   "source": [
    "### Number guessing game"
   ]
  },
  {
   "cell_type": "code",
   "execution_count": 6,
   "id": "fd9f941b-4a55-4fcd-abcf-c020d050f135",
   "metadata": {},
   "outputs": [
    {
     "name": "stdin",
     "output_type": "stream",
     "text": [
      "Enter a number from 1-10: 3\n"
     ]
    },
    {
     "name": "stdout",
     "output_type": "stream",
     "text": [
      "Wrong! The number was 8\n"
     ]
    }
   ],
   "source": [
    "import random\n",
    "\n",
    "def guess_num():\n",
    "    num = random.randint(1,10)\n",
    "    guess = int(input(\"Enter a number from 1-10:\"))\n",
    "\n",
    "    if guess == num:\n",
    "        print(\"Correct guess!\")\n",
    "    else:\n",
    "        print(f\"Wrong! The number was {num}\")\n",
    "        \n",
    "guess_num()"
   ]
  },
  {
   "cell_type": "markdown",
   "id": "361095ea-6fc6-4e2a-8139-116f112d486b",
   "metadata": {},
   "source": [
    "### Dice Roller"
   ]
  },
  {
   "cell_type": "code",
   "execution_count": 4,
   "id": "8e5f6e8c-70a8-40d0-b7c6-a857021f3db9",
   "metadata": {},
   "outputs": [
    {
     "name": "stdin",
     "output_type": "stream",
     "text": [
      "Press enter to roll the dice.... \n"
     ]
    },
    {
     "name": "stdout",
     "output_type": "stream",
     "text": [
      "You rolled: 2\n"
     ]
    },
    {
     "name": "stdin",
     "output_type": "stream",
     "text": [
      "Wanna roll dice again? y\n",
      "Press enter to roll the dice.... \n"
     ]
    },
    {
     "name": "stdout",
     "output_type": "stream",
     "text": [
      "You rolled: 2\n"
     ]
    },
    {
     "name": "stdin",
     "output_type": "stream",
     "text": [
      "Wanna roll dice again? n\n"
     ]
    }
   ],
   "source": [
    "import random\n",
    "\n",
    "def dice_roll():\n",
    "    return random.randint(1,6)\n",
    "\n",
    "while True:\n",
    "    input(\"Press enter to roll the dice....\")\n",
    "    print(\"You rolled:\", dice_roll())\n",
    "    again = input(\"Wanna roll dice again?\")\n",
    "    if again.lower() != 'y':\n",
    "        break"
   ]
  },
  {
   "cell_type": "markdown",
   "id": "7be4a7e9-a344-4582-a42f-3f076112900f",
   "metadata": {},
   "source": [
    "## Interactable Dice Roller"
   ]
  },
  {
   "cell_type": "code",
   "execution_count": 76,
   "id": "c11cc473-e1bc-4e67-8030-79846e454b7a",
   "metadata": {},
   "outputs": [],
   "source": [
    "import tkinter as tk\n",
    "import random\n",
    "\n",
    "def roll_dice():\n",
    "    dice_value = random.randint(1,6)\n",
    "    label_result.config(text = f\"You rolled: {dice_value}\")\n",
    "    dice_label.config(text=dice_unicode[dice_value])           \n",
    "\n",
    "#unicode characters for dice faces 1-6\n",
    "dice_unicode = {\n",
    "    1: \"\\u2680\",\n",
    "    2: \"\\u2681\",\n",
    "    3: \"\\u2682\",\n",
    "    4: \"\\u2683\",\n",
    "    5: \"\\u2684\",\n",
    "    6: \"\\u2685\"\n",
    "}\n",
    "\n",
    "#create main window\n",
    "root = tk.Tk()\n",
    "root.title(\"Dice Rolla\")\n",
    "root.geometry(\"300x300\")\n",
    "\n",
    "#dice face display\n",
    "dice_label = tk.Label(root, text = \"DICE ROLLER\", font = (\"Helvetica\", 20))\n",
    "dice_label.pack()\n",
    "\n",
    "#result text display\n",
    "label_result = tk.Label(root, text = \"Click to roll the dice!\", font = (\"Helvetica\", 14))\n",
    "label_result.pack(pady=10)\n",
    "\n",
    "#roll button\n",
    "roll_button = tk.Button(root, text = \"Roll the dice!\", command = roll_dice, font = (\"Helvetica\", 12))\n",
    "roll_button.pack()\n",
    "\n",
    "#run the gui loop\n",
    "root.mainloop()"
   ]
  }
 ],
 "metadata": {
  "kernelspec": {
   "display_name": "Python 3 (ipykernel)",
   "language": "python",
   "name": "python3"
  },
  "language_info": {
   "codemirror_mode": {
    "name": "ipython",
    "version": 3
   },
   "file_extension": ".py",
   "mimetype": "text/x-python",
   "name": "python",
   "nbconvert_exporter": "python",
   "pygments_lexer": "ipython3",
   "version": "3.13.5"
  }
 },
 "nbformat": 4,
 "nbformat_minor": 5
}
