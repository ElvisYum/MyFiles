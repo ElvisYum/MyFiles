{
 "cells": [
  {
   "cell_type": "code",
   "execution_count": 1,
   "id": "7abc10ff-62f0-4097-a652-2e0caa454b20",
   "metadata": {},
   "outputs": [
    {
     "name": "stdout",
     "output_type": "stream",
     "text": [
      "he is 40 years old\n",
      "Words are: ['he', 'is', '40', 'years', 'old']\n",
      "i am 5 years old\n",
      "Words are: ['i', 'am', '5', 'years', 'old']\n",
      "Files are not similar\n"
     ]
    }
   ],
   "source": [
    "with open('file.txt', 'r') as file:\n",
    "    content = file.read()\n",
    "print(content)\n",
    "words = content.split()\n",
    "print(\"Words are:\", words)\n",
    "\n",
    "with open('file1.txt', 'r') as file:\n",
    "    content1 = file.read()\n",
    "print(content1)\n",
    "words1 = content1.split()\n",
    "print(\"Words are:\", words1)\n",
    "\n",
    "similarity = content == content1\n",
    "if similarity:\n",
    "    print(\"Files are similar\")\n",
    "else:\n",
    "    print(\"Files are not similar\")\n",
    "\n",
    "#edit in .txt files to check if similar or not"
   ]
  },
  {
   "cell_type": "code",
   "execution_count": null,
   "id": "1921602a-b5ab-45c9-bd01-af1f4a97d549",
   "metadata": {},
   "outputs": [],
   "source": []
  }
 ],
 "metadata": {
  "kernelspec": {
   "display_name": "Python 3 (ipykernel)",
   "language": "python",
   "name": "python3"
  },
  "language_info": {
   "codemirror_mode": {
    "name": "ipython",
    "version": 3
   },
   "file_extension": ".py",
   "mimetype": "text/x-python",
   "name": "python",
   "nbconvert_exporter": "python",
   "pygments_lexer": "ipython3",
   "version": "3.13.5"
  }
 },
 "nbformat": 4,
 "nbformat_minor": 5
}
