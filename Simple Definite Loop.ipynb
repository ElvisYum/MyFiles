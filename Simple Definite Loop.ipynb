{
 "cells": [
  {
   "cell_type": "markdown",
   "id": "2f20cb5c-5386-4603-a510-dc8f3550ee43",
   "metadata": {},
   "source": [
    "## Definite Set"
   ]
  },
  {
   "cell_type": "code",
   "execution_count": 3,
   "id": "3d41cbb5-2e03-4e9f-b115-81d270215f34",
   "metadata": {},
   "outputs": [
    {
     "name": "stdout",
     "output_type": "stream",
     "text": [
      "Happy New Year, Ragon\n",
      "Happy New Year, Novo\n",
      "Happy New Year, Lolly\n"
     ]
    }
   ],
   "source": [
    "friends = ['Ragon', 'Novo', 'Lolly']\n",
    "for friend in friends:\n",
    "    print('Happy New Year,', friend)\n"
   ]
  },
  {
   "cell_type": "markdown",
   "id": "4ec40ad7-ed1b-4e8a-966a-6cf013ce360c",
   "metadata": {},
   "source": [
    "## Looping through a set"
   ]
  },
  {
   "cell_type": "markdown",
   "id": "59eb51eb-fe6e-4ff0-b744-29e81566c0e8",
   "metadata": {},
   "source": [
    "##### Largest Value"
   ]
  },
  {
   "cell_type": "code",
   "execution_count": 4,
   "id": "90b5f537-c9ad-4857-90f6-4ec40ec02c2f",
   "metadata": {},
   "outputs": [
    {
     "name": "stdout",
     "output_type": "stream",
     "text": [
      "Before -1\n",
      "9 9\n",
      "93 93\n",
      "93 14\n",
      "5769 5769\n",
      "5769 1294\n",
      "5769 21\n",
      "After 5769\n"
     ]
    }
   ],
   "source": [
    "largest_so_far = -1\n",
    "print('Before', largest_so_far)\n",
    "for the_num in [9,93,14,5769,1294, 21]:\n",
    "    if the_num > largest_so_far:\n",
    "        largest_so_far = the_num\n",
    "    print(largest_so_far, the_num)\n",
    "print(\"After\", largest_so_far)"
   ]
  },
  {
   "cell_type": "markdown",
   "id": "0f738fef-0a15-474b-8669-1082ded884ef",
   "metadata": {},
   "source": [
    "##### Counting in a Loop"
   ]
  },
  {
   "cell_type": "code",
   "execution_count": 5,
   "id": "46d130d7-036e-40c8-b130-256562d5ae1b",
   "metadata": {},
   "outputs": [
    {
     "name": "stdout",
     "output_type": "stream",
     "text": [
      "Before 0\n",
      "1 9\n",
      "2 93\n",
      "3 14\n",
      "4 234\n",
      "5 35634\n",
      "6 12\n",
      "7 234\n",
      "8 21\n",
      "9 1\n",
      "After 9\n"
     ]
    }
   ],
   "source": [
    "count = 0\n",
    "print(\"Before\", count)\n",
    "for i in [9,93,14,234,35634,12,234,21,1]:\n",
    "    count = count + 1\n",
    "    print(count, i)\n",
    "print(\"After\", count)"
   ]
  },
  {
   "cell_type": "markdown",
   "id": "398b33dd-5f59-42f6-a36e-d1605dac1114",
   "metadata": {},
   "source": [
    "##### Sum and Average"
   ]
  },
  {
   "cell_type": "code",
   "execution_count": 8,
   "id": "565f9823-03d5-4ae7-afe6-c88dc3378653",
   "metadata": {},
   "outputs": [
    {
     "name": "stdout",
     "output_type": "stream",
     "text": [
      "Before 9\n",
      "9 9\n",
      "102 93\n",
      "116 14\n",
      "350 234\n",
      "35984 35634\n",
      "35996 12\n",
      "36230 234\n",
      "36251 21\n",
      "36252 1\n",
      "After 9\n",
      "4028.0\n"
     ]
    }
   ],
   "source": [
    "sum = 0\n",
    "print(\"Before\", count)\n",
    "for i in [9,93,14,234,35634,12,234,21,1]:\n",
    "    sum = sum + i\n",
    "    print(sum, i)\n",
    "print(\"After\", count)\n",
    "avg = sum/count\n",
    "print(avg)"
   ]
  },
  {
   "cell_type": "markdown",
   "id": "ba6197e4-579e-4b72-bc4b-13f29e341224",
   "metadata": {},
   "source": [
    "##### Search using a Boolean Variable"
   ]
  },
  {
   "cell_type": "code",
   "execution_count": 14,
   "id": "d04aaa60-9d85-484f-ad2b-a4f70716a3cf",
   "metadata": {},
   "outputs": [
    {
     "name": "stdout",
     "output_type": "stream",
     "text": [
      "False 2\n",
      "False 6\n",
      "False 1\n",
      "True 8\n",
      "True 3\n",
      "True 9\n",
      "True 4\n"
     ]
    }
   ],
   "source": [
    "found = False\n",
    "for i in [2,6,1,8,3,9,4]:\n",
    "    if i == 8:\n",
    "        found = True\n",
    "    print(found, i)\n",
    "    exit()"
   ]
  },
  {
   "cell_type": "code",
   "execution_count": null,
   "id": "078f20e5-516d-461e-ae26-01a2be7a51d0",
   "metadata": {},
   "outputs": [],
   "source": []
  }
 ],
 "metadata": {
  "kernelspec": {
   "display_name": "Python 3 (ipykernel)",
   "language": "python",
   "name": "python3"
  },
  "language_info": {
   "codemirror_mode": {
    "name": "ipython",
    "version": 3
   },
   "file_extension": ".py",
   "mimetype": "text/x-python",
   "name": "python",
   "nbconvert_exporter": "python",
   "pygments_lexer": "ipython3",
   "version": "3.13.5"
  }
 },
 "nbformat": 4,
 "nbformat_minor": 5
}
